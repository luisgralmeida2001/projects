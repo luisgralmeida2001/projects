{
 "cells": [
  {
   "cell_type": "code",
   "execution_count": 1,
   "metadata": {},
   "outputs": [],
   "source": [
    "import os \n",
    "import re\n",
    "import pandas as pd"
   ]
  },
  {
   "cell_type": "code",
   "execution_count": 2,
   "metadata": {},
   "outputs": [
    {
     "name": "stdout",
     "output_type": "stream",
     "text": [
      "Caminho do arquivo mais recente: C:\\Users\\luis.almeida\\Downloads\\exportacao_luisgalm3_682063.csv\n"
     ]
    }
   ],
   "source": [
    "downloads_dir = r'C:\\Users\\luis.almeida\\Downloads'\n",
    "\n",
    "# Lista todos os arquivos que correspondem ao padrão\n",
    "files = [f for f in os.listdir(downloads_dir) if f.startswith('exportacao_luisgalm3_') and f.endswith('.csv')]\n",
    "\n",
    "# Extrai os números dos nomes dos arquivos, removendo caracteres não numéricos\n",
    "file_numbers = [int(re.search(r'_([\\d]+)\\.csv', f).group(1)) for f in files if re.search(r'_([\\d]+)\\.csv', f)]\n",
    "\n",
    "# Encontra o arquivo com o maior número\n",
    "latest_file_number = max(file_numbers, default=0)\n",
    "latest_file_path = os.path.join(downloads_dir, f'exportacao_luisgalm3_{latest_file_number}.csv')\n",
    "\n",
    "print(f'Caminho do arquivo mais recente: {latest_file_path}')\n"
   ]
  },
  {
   "cell_type": "code",
   "execution_count": 3,
   "metadata": {},
   "outputs": [
    {
     "name": "stdout",
     "output_type": "stream",
     "text": [
      "CRELUZ COOP, 14/07/2024, RSYPAMALNBA01 (L), Horas Faltantes: 24\n",
      "CRF, 05/07/2024, SCBANDUBELM02 (L), Horas Faltantes: 1\n",
      "CRF, 05/07/2024, SCBANDUSINA01 (L), Horas Faltantes: 1\n",
      "MAROMBAS GERACAO, 01/07/2024, SCRDPDUSINA01 (L), Horas Faltantes: 24\n",
      "MAROMBAS GERACAO, 02/07/2024, SCRDPDUSINA01 (L), Horas Faltantes: 24\n",
      "MAROMBAS GERACAO, 03/07/2024, SCRDPDUSINA01 (L), Horas Faltantes: 24\n",
      "MAROMBAS GERACAO, 04/07/2024, SCRDPDUSINA01 (L), Horas Faltantes: 24\n",
      "MAROMBAS GERACAO, 05/07/2024, SCRDPDUSINA01 (L), Horas Faltantes: 24\n",
      "MAROMBAS GERACAO, 06/07/2024, SCRDPDUSINA01 (L), Horas Faltantes: 24\n",
      "MAROMBAS GERACAO, 07/07/2024, SCRDPDUSINA01 (L), Horas Faltantes: 24\n",
      "MAROMBAS GERACAO, 08/07/2024, SCRDPDUSINA01 (L), Horas Faltantes: 24\n",
      "MAROMBAS GERACAO, 09/07/2024, SCRDPDUSINA01 (L), Horas Faltantes: 24\n",
      "MAROMBAS GERACAO, 10/07/2024, SCRDPDUSINA01 (L), Horas Faltantes: 24\n",
      "MAROMBAS GERACAO, 10/07/2024, SCURDPCGRDP01 (L), Horas Faltantes: 15\n",
      "MAROMBAS GERACAO, 11/07/2024, SCRDPDUSINA01 (L), Horas Faltantes: 24\n",
      "MAROMBAS GERACAO, 11/07/2024, SCURDPCGRDP01 (L), Horas Faltantes: 17\n",
      "MAROMBAS GERACAO, 12/07/2024, SCURDPCGRDP01 (L), Horas Faltantes: 12\n",
      "MAROMBAS GERACAO, 13/07/2024, SCURDPCGRDP01 (L), Horas Faltantes: 24\n",
      "MAROMBAS GERACAO, 14/07/2024, SCURDPCGRDP01 (L), Horas Faltantes: 24\n",
      "PCH RIO DO COBRE, 02/07/2024, PRLJS-PCHRC01 (L), Horas Faltantes: 12\n",
      "PCH RIO DO COBRE, 04/07/2024, PRLJS-PCHRC01 (L), Horas Faltantes: 5\n",
      "PCH RIO DO COBRE, 05/07/2024, PRLJS-PCHRC01 (L), Horas Faltantes: 5\n",
      "PCH RIO DO COBRE, 06/07/2024, PRLJS-PCHRC01 (L), Horas Faltantes: 7\n",
      "PCH RIO DO COBRE, 07/07/2024, PRLJS-PCHRC01 (L), Horas Faltantes: 2\n",
      "PCH RIO DO COBRE, 09/07/2024, PRLJS-PCHRC01 (L), Horas Faltantes: 16\n",
      "PCH RIO DO COBRE, 10/07/2024, PRLJS-PCHRC01 (L), Horas Faltantes: 11\n",
      "PCH RIO DO COBRE, 11/07/2024, PRLJS-PCHRC01 (L), Horas Faltantes: 7\n",
      "PCH RIO DO COBRE, 12/07/2024, PRLJS-PCHRC01 (L), Horas Faltantes: 24\n",
      "PCH RIO DO COBRE, 13/07/2024, PRLJS-PCHRC01 (L), Horas Faltantes: 23\n",
      "PCH RIO DO COBRE, 14/07/2024, PRLJS-PCHRC01 (L), Horas Faltantes: 24\n"
     ]
    }
   ],
   "source": [
    "columns = ['Agente', 'Data', 'Ponto / Grupo', 'Hora', 'Origem']\n",
    "\n",
    "arquivo = pd.read_csv(latest_file_path, encoding='latin-1', sep=';', \n",
    "                      skiprows=3, usecols=columns)\n",
    "\n",
    "dados_faltantes = arquivo.loc[arquivo['Origem'] == 'DADOS FALTANTES'].copy()\n",
    "\n",
    "dados_faltantes['Hora'] = 1\n",
    "\n",
    "horas = dados_faltantes.groupby(['Agente', 'Data', 'Ponto / Grupo']).agg({'Hora': lambda x: min(x.sum(), 24)}).reset_index()\n",
    "\n",
    "for index, row in horas.iterrows():\n",
    "    print(f\"{row['Agente']}, {row['Data']}, {row['Ponto / Grupo']}, Horas Faltantes: {row['Hora']}\")"
   ]
  }
 ],
 "metadata": {
  "kernelspec": {
   "display_name": "base",
   "language": "python",
   "name": "python3"
  },
  "language_info": {
   "codemirror_mode": {
    "name": "ipython",
    "version": 3
   },
   "file_extension": ".py",
   "mimetype": "text/x-python",
   "name": "python",
   "nbconvert_exporter": "python",
   "pygments_lexer": "ipython3",
   "version": "3.12.1"
  }
 },
 "nbformat": 4,
 "nbformat_minor": 2
}
